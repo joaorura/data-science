{
 "cells": [
  {
   "cell_type": "code",
   "execution_count": 16,
   "metadata": {},
   "outputs": [],
   "source": [
    "import pandas as pd\n",
    "from numpy import NaN"
   ]
  },
  {
   "cell_type": "code",
   "execution_count": 17,
   "metadata": {},
   "outputs": [],
   "source": [
    "covid = pd.read_csv('resulta_covid19_data_alagoas.csv')\n",
    "ex_restrictions = pd.read_csv('data/restrictions.csv')\n"
   ]
  },
  {
   "cell_type": "code",
   "execution_count": 18,
   "metadata": {},
   "outputs": [],
   "source": [
    "ex_restrictions['Data inicial'] = pd.to_datetime(ex_restrictions['Data inicial'], format=\"%d/%m/%Y\")"
   ]
  },
  {
   "cell_type": "code",
   "execution_count": 19,
   "metadata": {},
   "outputs": [],
   "source": [
    "ex_restrictions['Data Final'] = pd.to_datetime(ex_restrictions['Data Final'], format=\"%d/%m/%Y\")"
   ]
  },
  {
   "cell_type": "code",
   "execution_count": 20,
   "metadata": {},
   "outputs": [],
   "source": [
    "covid['Updated'] = pd.to_datetime(covid['Updated'])"
   ]
  },
  {
   "cell_type": "code",
   "execution_count": 21,
   "metadata": {},
   "outputs": [
    {
     "data": {
      "text/html": [
       "<div>\n",
       "<style scoped>\n",
       "    .dataframe tbody tr th:only-of-type {\n",
       "        vertical-align: middle;\n",
       "    }\n",
       "\n",
       "    .dataframe tbody tr th {\n",
       "        vertical-align: top;\n",
       "    }\n",
       "\n",
       "    .dataframe thead th {\n",
       "        text-align: right;\n",
       "    }\n",
       "</style>\n",
       "<table border=\"1\" class=\"dataframe\">\n",
       "  <thead>\n",
       "    <tr style=\"text-align: right;\">\n",
       "      <th></th>\n",
       "      <th>Updated</th>\n",
       "      <th>Confirmed</th>\n",
       "      <th>ConfirmedChange</th>\n",
       "      <th>Deaths</th>\n",
       "      <th>DeathsChange</th>\n",
       "    </tr>\n",
       "  </thead>\n",
       "  <tbody>\n",
       "    <tr>\n",
       "      <th>0</th>\n",
       "      <td>2020-04-08</td>\n",
       "      <td>32</td>\n",
       "      <td>NaN</td>\n",
       "      <td>2.0</td>\n",
       "      <td>NaN</td>\n",
       "    </tr>\n",
       "    <tr>\n",
       "      <th>1</th>\n",
       "      <td>2020-04-14</td>\n",
       "      <td>50</td>\n",
       "      <td>3.0</td>\n",
       "      <td>3.0</td>\n",
       "      <td>1.0</td>\n",
       "    </tr>\n",
       "    <tr>\n",
       "      <th>2</th>\n",
       "      <td>2020-04-15</td>\n",
       "      <td>72</td>\n",
       "      <td>22.0</td>\n",
       "      <td>4.0</td>\n",
       "      <td>1.0</td>\n",
       "    </tr>\n",
       "    <tr>\n",
       "      <th>3</th>\n",
       "      <td>2020-04-16</td>\n",
       "      <td>89</td>\n",
       "      <td>17.0</td>\n",
       "      <td>5.0</td>\n",
       "      <td>1.0</td>\n",
       "    </tr>\n",
       "    <tr>\n",
       "      <th>4</th>\n",
       "      <td>2020-04-17</td>\n",
       "      <td>110</td>\n",
       "      <td>21.0</td>\n",
       "      <td>7.0</td>\n",
       "      <td>2.0</td>\n",
       "    </tr>\n",
       "    <tr>\n",
       "      <th>...</th>\n",
       "      <td>...</td>\n",
       "      <td>...</td>\n",
       "      <td>...</td>\n",
       "      <td>...</td>\n",
       "      <td>...</td>\n",
       "    </tr>\n",
       "    <tr>\n",
       "      <th>593</th>\n",
       "      <td>2022-01-06</td>\n",
       "      <td>242165</td>\n",
       "      <td>0.0</td>\n",
       "      <td>6383.0</td>\n",
       "      <td>0.0</td>\n",
       "    </tr>\n",
       "    <tr>\n",
       "      <th>594</th>\n",
       "      <td>2022-01-07</td>\n",
       "      <td>242165</td>\n",
       "      <td>0.0</td>\n",
       "      <td>6383.0</td>\n",
       "      <td>0.0</td>\n",
       "    </tr>\n",
       "    <tr>\n",
       "      <th>595</th>\n",
       "      <td>2022-01-08</td>\n",
       "      <td>242165</td>\n",
       "      <td>0.0</td>\n",
       "      <td>6383.0</td>\n",
       "      <td>0.0</td>\n",
       "    </tr>\n",
       "    <tr>\n",
       "      <th>596</th>\n",
       "      <td>2022-01-09</td>\n",
       "      <td>242165</td>\n",
       "      <td>0.0</td>\n",
       "      <td>6383.0</td>\n",
       "      <td>0.0</td>\n",
       "    </tr>\n",
       "    <tr>\n",
       "      <th>597</th>\n",
       "      <td>2022-01-10</td>\n",
       "      <td>242165</td>\n",
       "      <td>0.0</td>\n",
       "      <td>6383.0</td>\n",
       "      <td>0.0</td>\n",
       "    </tr>\n",
       "  </tbody>\n",
       "</table>\n",
       "<p>598 rows × 5 columns</p>\n",
       "</div>"
      ],
      "text/plain": [
       "       Updated  Confirmed  ConfirmedChange  Deaths  DeathsChange\n",
       "0   2020-04-08         32              NaN     2.0           NaN\n",
       "1   2020-04-14         50              3.0     3.0           1.0\n",
       "2   2020-04-15         72             22.0     4.0           1.0\n",
       "3   2020-04-16         89             17.0     5.0           1.0\n",
       "4   2020-04-17        110             21.0     7.0           2.0\n",
       "..         ...        ...              ...     ...           ...\n",
       "593 2022-01-06     242165              0.0  6383.0           0.0\n",
       "594 2022-01-07     242165              0.0  6383.0           0.0\n",
       "595 2022-01-08     242165              0.0  6383.0           0.0\n",
       "596 2022-01-09     242165              0.0  6383.0           0.0\n",
       "597 2022-01-10     242165              0.0  6383.0           0.0\n",
       "\n",
       "[598 rows x 5 columns]"
      ]
     },
     "execution_count": 21,
     "metadata": {},
     "output_type": "execute_result"
    }
   ],
   "source": [
    "covid"
   ]
  },
  {
   "cell_type": "code",
   "execution_count": 22,
   "metadata": {},
   "outputs": [],
   "source": [
    "col = list(covid.columns)"
   ]
  },
  {
   "cell_type": "code",
   "execution_count": 23,
   "metadata": {},
   "outputs": [],
   "source": [
    "col.remove('Updated')"
   ]
  },
  {
   "cell_type": "code",
   "execution_count": 24,
   "metadata": {},
   "outputs": [
    {
     "name": "stderr",
     "output_type": "stream",
     "text": [
      "C:\\Users\\jmess\\AppData\\Local\\Temp\\ipykernel_15376\\2344899495.py:30: RuntimeWarning: divide by zero encountered in longlong_scalars\n",
      "  restrictions['Confirmed'][i] = int(restrictions['Confirmed'][i] // size)\n",
      "C:\\Users\\jmess\\AppData\\Local\\Temp\\ipykernel_15376\\2344899495.py:30: SettingWithCopyWarning: \n",
      "A value is trying to be set on a copy of a slice from a DataFrame\n",
      "\n",
      "See the caveats in the documentation: https://pandas.pydata.org/pandas-docs/stable/user_guide/indexing.html#returning-a-view-versus-a-copy\n",
      "  restrictions['Confirmed'][i] = int(restrictions['Confirmed'][i] // size)\n",
      "C:\\Users\\jmess\\AppData\\Local\\Temp\\ipykernel_15376\\2344899495.py:33: RuntimeWarning: divide by zero encountered in longlong_scalars\n",
      "  restrictions['ConfirmedChange'][i] = int(restrictions['ConfirmedChange'][i] // size)\n",
      "C:\\Users\\jmess\\AppData\\Local\\Temp\\ipykernel_15376\\2344899495.py:33: SettingWithCopyWarning: \n",
      "A value is trying to be set on a copy of a slice from a DataFrame\n",
      "\n",
      "See the caveats in the documentation: https://pandas.pydata.org/pandas-docs/stable/user_guide/indexing.html#returning-a-view-versus-a-copy\n",
      "  restrictions['ConfirmedChange'][i] = int(restrictions['ConfirmedChange'][i] // size)\n",
      "C:\\Users\\jmess\\AppData\\Local\\Temp\\ipykernel_15376\\2344899495.py:36: RuntimeWarning: divide by zero encountered in longlong_scalars\n",
      "  restrictions['Deaths'][i] = int(restrictions['Deaths'][i] // size)\n",
      "C:\\Users\\jmess\\AppData\\Local\\Temp\\ipykernel_15376\\2344899495.py:36: SettingWithCopyWarning: \n",
      "A value is trying to be set on a copy of a slice from a DataFrame\n",
      "\n",
      "See the caveats in the documentation: https://pandas.pydata.org/pandas-docs/stable/user_guide/indexing.html#returning-a-view-versus-a-copy\n",
      "  restrictions['Deaths'][i] = int(restrictions['Deaths'][i] // size)\n",
      "C:\\Users\\jmess\\AppData\\Local\\Temp\\ipykernel_15376\\2344899495.py:39: RuntimeWarning: divide by zero encountered in longlong_scalars\n",
      "  restrictions['DeathsChange'][i] = int(restrictions['DeathsChange'][i] // size)\n",
      "C:\\Users\\jmess\\AppData\\Local\\Temp\\ipykernel_15376\\2344899495.py:39: SettingWithCopyWarning: \n",
      "A value is trying to be set on a copy of a slice from a DataFrame\n",
      "\n",
      "See the caveats in the documentation: https://pandas.pydata.org/pandas-docs/stable/user_guide/indexing.html#returning-a-view-versus-a-copy\n",
      "  restrictions['DeathsChange'][i] = int(restrictions['DeathsChange'][i] // size)\n",
      "C:\\Users\\jmess\\AppData\\Local\\Temp\\ipykernel_15376\\2344899495.py:16: SettingWithCopyWarning: \n",
      "A value is trying to be set on a copy of a slice from a DataFrame\n",
      "\n",
      "See the caveats in the documentation: https://pandas.pydata.org/pandas-docs/stable/user_guide/indexing.html#returning-a-view-versus-a-copy\n",
      "  restrictions['Confirmed'][i] += j['Confirmed']\n",
      "C:\\Users\\jmess\\AppData\\Local\\Temp\\ipykernel_15376\\2344899495.py:22: SettingWithCopyWarning: \n",
      "A value is trying to be set on a copy of a slice from a DataFrame\n",
      "\n",
      "See the caveats in the documentation: https://pandas.pydata.org/pandas-docs/stable/user_guide/indexing.html#returning-a-view-versus-a-copy\n",
      "  restrictions['Deaths'][i] += j['Deaths']\n",
      "C:\\Users\\jmess\\AppData\\Local\\Temp\\ipykernel_15376\\2344899495.py:19: SettingWithCopyWarning: \n",
      "A value is trying to be set on a copy of a slice from a DataFrame\n",
      "\n",
      "See the caveats in the documentation: https://pandas.pydata.org/pandas-docs/stable/user_guide/indexing.html#returning-a-view-versus-a-copy\n",
      "  restrictions['ConfirmedChange'][i] += j['ConfirmedChange']\n",
      "C:\\Users\\jmess\\AppData\\Local\\Temp\\ipykernel_15376\\2344899495.py:25: SettingWithCopyWarning: \n",
      "A value is trying to be set on a copy of a slice from a DataFrame\n",
      "\n",
      "See the caveats in the documentation: https://pandas.pydata.org/pandas-docs/stable/user_guide/indexing.html#returning-a-view-versus-a-copy\n",
      "  restrictions['DeathsChange'][i] += j['DeathsChange']\n"
     ]
    }
   ],
   "source": [
    "restrictions = ex_restrictions.copy()\n",
    "restrictions['Confirmed'] = 0\n",
    "restrictions['ConfirmedChange'] = 0\n",
    "restrictions['Deaths'] = 0\n",
    "restrictions['DeathsChange'] = 0\n",
    "\n",
    "for i in range(len(restrictions['Data inicial'])):\n",
    "    data_inicial = restrictions['Data inicial'][i]\n",
    "    data_final = restrictions['Data Final'][i]\n",
    "\n",
    "    interval = covid[(covid['Updated'] >= data_inicial) & (covid['Updated'] <= data_final)]\n",
    "\n",
    "    for k, j in interval.iterrows():\n",
    "\n",
    "        if not pd.isnull(j['Confirmed']):\n",
    "            restrictions['Confirmed'][i] += j['Confirmed']\n",
    "        \n",
    "        if not pd.isnull(j['ConfirmedChange']):\n",
    "            restrictions['ConfirmedChange'][i] += j['ConfirmedChange']\n",
    "        \n",
    "        if not pd.isnull(j['Deaths']):\n",
    "            restrictions['Deaths'][i] += j['Deaths']\n",
    "        \n",
    "        if not pd.isnull(j['DeathsChange']):\n",
    "            restrictions['DeathsChange'][i] += j['DeathsChange']\n",
    "\n",
    "    size = len(interval['Updated'])\n",
    "\n",
    "    if not pd.isnull(restrictions['Confirmed'][i]):\n",
    "        restrictions['Confirmed'][i] = int(restrictions['Confirmed'][i] // size) \n",
    "\n",
    "    if not pd.isnull(restrictions['ConfirmedChange'][i]):\n",
    "        restrictions['ConfirmedChange'][i] = int(restrictions['ConfirmedChange'][i] // size) \n",
    "    \n",
    "    if not pd.isnull(restrictions['Deaths'][i]):\n",
    "        restrictions['Deaths'][i] = int(restrictions['Deaths'][i] // size) \n",
    "    \n",
    "    if not pd.isnull(restrictions['DeathsChange'][i]):\n",
    "        restrictions['DeathsChange'][i] = int(restrictions['DeathsChange'][i] // size) "
   ]
  },
  {
   "cell_type": "code",
   "execution_count": null,
   "metadata": {},
   "outputs": [],
   "source": [
    "restrictions[['Confirmed', 'ConfirmedChange', 'Deaths', 'DeathsChange']] = restrictions[['Confirmed', 'ConfirmedChange', 'Deaths', 'DeathsChange']].replace(0, NaN)"
   ]
  },
  {
   "cell_type": "code",
   "execution_count": null,
   "metadata": {},
   "outputs": [],
   "source": [
    "restrictions = restrictions.dropna()"
   ]
  },
  {
   "cell_type": "code",
   "execution_count": null,
   "metadata": {},
   "outputs": [],
   "source": [
    "min_date = min(covid['Updated'])"
   ]
  },
  {
   "cell_type": "code",
   "execution_count": null,
   "metadata": {},
   "outputs": [],
   "source": [
    "restrictions = restrictions.drop(restrictions[restrictions['Data inicial'] < min_date].index)"
   ]
  },
  {
   "cell_type": "code",
   "execution_count": null,
   "metadata": {},
   "outputs": [],
   "source": [
    "restrictions.to_csv('restrictions.csv', index=False)\n"
   ]
  }
 ],
 "metadata": {
  "interpreter": {
   "hash": "2be5faf79681da6f2a61fdfdd5405d65d042280f7fba6178067603e3a2925119"
  },
  "kernelspec": {
   "display_name": "Python 3.10.2 64-bit",
   "language": "python",
   "name": "python3"
  },
  "language_info": {
   "codemirror_mode": {
    "name": "ipython",
    "version": 3
   },
   "file_extension": ".py",
   "mimetype": "text/x-python",
   "name": "python",
   "nbconvert_exporter": "python",
   "pygments_lexer": "ipython3",
   "version": "3.10.2"
  },
  "orig_nbformat": 4
 },
 "nbformat": 4,
 "nbformat_minor": 2
}
